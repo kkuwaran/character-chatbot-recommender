{
 "cells": [
  {
   "cell_type": "code",
   "execution_count": 2,
   "metadata": {},
   "outputs": [
    {
     "name": "stdout",
     "output_type": "stream",
     "text": [
      "OpenAI version: 1.52.1\n",
      "\n",
      "*** Test embeddings_fn function ***\n",
      "Embbedings Shape: (2, 1536)\n",
      "\n",
      "*** Test query_openai_fn function ***\n",
      "Question: What is the meaning of life? \n",
      "Answer: The meaning of life is a philosophical question that has been pondered by humans for centuries. It can vary greatly depending on cultural, religious, and personal beliefs. Some people find meaning through religion or spirituality, others through relationships, work, or personal growth\n",
      "\n",
      "*** Test tokenizer ***\n",
      "Prompt: What is the meaning of life? \n",
      "Tokens: [4827, 382, 290, 10915, 328, 2615, 30]\n"
     ]
    }
   ],
   "source": [
    "import os\n",
    "import numpy as np\n",
    "from openai_api_wrapper import OpenAIClient\n",
    "\n",
    "\n",
    "api_base = \"https://openai.vocareum.com/v1\"\n",
    "api_key = os.environ.get(\"OPENAI_API_KEY\")\n",
    "\n",
    "# create client\n",
    "client = OpenAIClient(api_base, api_key)\n",
    "\n",
    "# test get_embeddings function\n",
    "texts = [\"Hello, world!\", \"Goodbye, world!\"]\n",
    "embeddings = client.get_embeddings(texts)\n",
    "print(\"\\n*** Test embeddings_fn function ***\")\n",
    "print(f\"Embbedings Shape: {np.array(embeddings).shape}\")\n",
    "\n",
    "# test query_openai function\n",
    "prompt = \"What is the meaning of life?\"\n",
    "response = client.query_openai(prompt, max_tokens=50, temperature=0.5, top_p=1.0)\n",
    "print(\"\\n*** Test query_openai_fn function ***\")\n",
    "print(f\"Question: {prompt} \\nAnswer: {response}\")\n",
    "\n",
    "# test tokenizer\n",
    "prompt = \"What is the meaning of life?\"\n",
    "tokens = client.tokenizer.encode(prompt)\n",
    "print(\"\\n*** Test tokenizer ***\")\n",
    "print(f\"Prompt: {prompt} \\nTokens: {tokens}\")"
   ]
  },
  {
   "cell_type": "code",
   "execution_count": null,
   "metadata": {},
   "outputs": [],
   "source": []
  }
 ],
 "metadata": {
  "kernelspec": {
   "display_name": "Python 3",
   "language": "python",
   "name": "python3"
  },
  "language_info": {
   "codemirror_mode": {
    "name": "ipython",
    "version": 3
   },
   "file_extension": ".py",
   "mimetype": "text/x-python",
   "name": "python",
   "nbconvert_exporter": "python",
   "pygments_lexer": "ipython3",
   "version": "3.12.3"
  }
 },
 "nbformat": 4,
 "nbformat_minor": 2
}
